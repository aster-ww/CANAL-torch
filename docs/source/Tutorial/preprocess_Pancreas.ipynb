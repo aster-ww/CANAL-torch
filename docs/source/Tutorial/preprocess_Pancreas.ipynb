{
 "cells": [
  {
   "cell_type": "markdown",
   "id": "1a9eb276",
   "metadata": {},
   "source": [
    "# Tutorial 1: prepare the preprocessed scRNA-seq data"
   ]
  },
  {
   "cell_type": "code",
   "execution_count": 1,
   "id": "c7b0fcde",
   "metadata": {},
   "outputs": [],
   "source": [
    "import os\n",
    "os.chdir('/data/wanh/CANAL/') \n",
    "import sys\n",
    "sys.path.append('/data/wanh/CANAL/')\n",
    "from preprocess import *\n",
    "import scanpy as sc, numpy as np, pandas as pd, anndata as ad\n",
    "from scipy import sparse\n",
    "import csv"
   ]
  },
  {
   "cell_type": "markdown",
   "id": "0886f47f",
   "metadata": {},
   "source": [
    "## conduct gene alignment with the Panglao dataset"
   ]
  },
  {
   "cell_type": "code",
   "execution_count": null,
   "id": "bc2301f5",
   "metadata": {},
   "outputs": [
    {
     "name": "stdout",
     "output_type": "stream",
     "text": [
      "AnnData object with n_obs × n_vars = 14043 × 28421\n",
      "    obs: 'donor', 'cell_type1', 'library', 'organism', 'dataset_name', 'platform', 'organ', 'data_type', 'cell_ontology_class', 'cell_ontology_id', 'n_genes', 'n_counts', '__libsize__', 'baron_human_donor', 'age', 'gender', 'enge_donor', 'batch', 'muraro_donor'\n",
      "    var: 'variable_genes-0', 'variable_genes-1', 'variable_genes-2', 'variable_genes-3', 'variable_genes'\n",
      "    uns: 'baron_human_donor_colors', 'cell_ontology_class_colors', 'cell_type1_colors', 'dataset_name_colors', 'enge_donor_colors', 'muraro_donor_colors', 'neighbors', 'umap'\n",
      "    obsm: 'X_umap', 'latent'\n",
      "    obsp: 'connectivities', 'distances' Index(['1/2-SBSRNA4', 'A1BG', 'A1BG-AS1', 'A1CF', 'A2LD1', 'A2M', 'A2M-AS1',\n",
      "       'A2ML1', 'A2MP1', 'A3GALT2',\n",
      "       ...\n",
      "       'ZXDA', 'ZXDB', 'ZXDC', 'ZYG11A', 'ZYG11B', 'ZYX', 'ZZEF1', 'ZZZ3',\n",
      "       'pk', 'tAKR'],\n",
      "      dtype='object', length=28421)\n",
      "AnnData object with n_obs × n_vars = 14043 × 28421\n",
      "    obs: 'donor', 'cell_type1', 'library', 'organism', 'dataset_name', 'platform', 'organ', 'data_type', 'cell_ontology_class', 'cell_ontology_id', 'n_genes', 'n_counts', '__libsize__', 'baron_human_donor', 'age', 'gender', 'enge_donor', 'batch', 'muraro_donor'\n",
      "    var: 'variable_genes-0', 'variable_genes-1', 'variable_genes-2', 'variable_genes-3', 'variable_genes'\n",
      "    uns: 'baron_human_donor_colors', 'cell_ontology_class_colors', 'cell_type1_colors', 'dataset_name_colors', 'enge_donor_colors', 'muraro_donor_colors', 'neighbors', 'umap'\n",
      "    obsm: 'X_umap', 'latent'\n",
      "    obsp: 'connectivities', 'distances'              variable_genes-0  variable_genes-1  variable_genes-2  \\\n",
      "1/2-SBSRNA4             False             False             False   \n",
      "A1BG                    False             False             False   \n",
      "A1BG-AS1                False             False             False   \n",
      "A1CF                    False             False             False   \n",
      "A2LD1                   False             False             False   \n",
      "...                       ...               ...               ...   \n",
      "ZYX                     False              True             False   \n",
      "ZZEF1                   False             False             False   \n",
      "ZZZ3                    False             False             False   \n",
      "pk                      False             False             False   \n",
      "tAKR                    False             False             False   \n",
      "\n",
      "             variable_genes-3  variable_genes  \n",
      "1/2-SBSRNA4             False           False  \n",
      "A1BG                    False           False  \n",
      "A1BG-AS1                False           False  \n",
      "A1CF                    False           False  \n",
      "A2LD1                   False           False  \n",
      "...                       ...             ...  \n",
      "ZYX                     False            True  \n",
      "ZZEF1                   False           False  \n",
      "ZZZ3                    False           False  \n",
      "pk                      False           False  \n",
      "tAKR                    False           False  \n",
      "\n",
      "[28421 rows x 5 columns]\n"
     ]
    },
    {
     "name": "stderr",
     "output_type": "stream",
     "text": [
      "/data/wanh/ENTER/envs/pytorch/lib/python3.7/site-packages/anndata/_core/anndata.py:1828: UserWarning: Observation names are not unique. To make them unique, call `.obs_names_make_unique`.\n",
      "  utils.warn_names_duplicates(\"obs\")\n"
     ]
    }
   ],
   "source": [
    "data_path_human= \"/data/wanh/CANAL/data/Pancreas/ALIGNED_Homo_sapiens_Pancreas.h5ad\"\n",
    "adata_human = sc.read(data_path_human)\n",
    "adata_human.obs[\"organism\"]='human'\n",
    "print(adata_human,adata_human.var_names)\n",
    "data = adata_human\n",
    "print(data,data.var)\n",
    "obj = data.var_names.tolist()\n",
    "new_data = gene_align(data,obj)\n",
    "print(new_data)"
   ]
  },
  {
   "cell_type": "markdown",
   "id": "83566d96",
   "metadata": {},
   "source": [
    "## normalize the aligned scRNA-seq dataset "
   ]
  },
  {
   "cell_type": "code",
   "execution_count": null,
   "id": "a2533b03",
   "metadata": {},
   "outputs": [],
   "source": [
    "new = normalize(new_data, \"pancreas\")"
   ]
  },
  {
   "cell_type": "markdown",
   "id": "258ff5d4",
   "metadata": {},
   "source": [
    "## save the pre-processed datasets"
   ]
  },
  {
   "cell_type": "code",
   "execution_count": null,
   "id": "48b1fb75",
   "metadata": {},
   "outputs": [],
   "source": [
    "dataset1 = \"Muraro\"\n",
    "data_subset1 = new[np.array(new.obs[\"dataset_name\"]) == dataset1]\n",
    "print(\"dataset 1:\", dataset1)\n",
    "print(data_subset1)\n",
    "print(np.unique(data_subset1.obs['cell_ontology_class'],return_counts=True))\n",
    "data_subset1.write(\"/data/wanh/CANAL/data/{}/{}.h5ad\".format(experiments,dataset1))\n",
    "\n",
    "dataset2 = \"Enge\"\n",
    "data_subset2 = new[np.array(new.obs[\"dataset_name\"]) == dataset2]\n",
    "print(\"dataset 2:\", dataset2)\n",
    "print(data_subset2)\n",
    "print(np.unique(data_subset2.obs['cell_ontology_class'],return_counts=True))\n",
    "data_subset2.write(\"/data/wanh/CANAL/data/{}/{}.h5ad\".format(experiments,dataset2))\n",
    "\n",
    "dataset3 = \"Baron_human\"\n",
    "data_subset3 = new[np.array(new.obs[\"dataset_name\"]) == dataset3]\n",
    "print(\"dataset 3:\", dataset3)\n",
    "print(data_subset3)\n",
    "print(np.unique(data_subset3.obs['cell_ontology_class'],return_counts=True))\n",
    "data_subset3.write(\"/data/wanh/CANAL/data/{}/{}.h5ad\".format(experiments,dataset3))\n",
    "\n",
    "dataset4 = \"Segerstolpe\"\n",
    "data_subset4 = new[np.array(new.obs[\"dataset_name\"]) == dataset4]\n",
    "print(\"dataset 4:\", dataset4)\n",
    "print(data_subset4)\n",
    "print(np.unique(data_subset4.obs['cell_ontology_class'],return_counts=True))\n",
    "data_subset4.write(\"/data/wanh/CANAL/data/{}/{}.h5ad\".format(experiments,dataset4))"
   ]
  }
 ],
 "metadata": {
  "kernelspec": {
   "display_name": "Python 3 (ipykernel)",
   "language": "python",
   "name": "python3"
  },
  "language_info": {
   "codemirror_mode": {
    "name": "ipython",
    "version": 3
   },
   "file_extension": ".py",
   "mimetype": "text/x-python",
   "name": "python",
   "nbconvert_exporter": "python",
   "pygments_lexer": "ipython3",
   "version": "3.7.10"
  }
 },
 "nbformat": 4,
 "nbformat_minor": 5
}
